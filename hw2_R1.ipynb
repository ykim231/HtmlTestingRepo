{
  "nbformat": 4,
  "nbformat_minor": 0,
  "metadata": {
    "colab": {
      "name": "hw2.ipynb",
      "provenance": []
    },
    "kernelspec": {
      "name": "python3",
      "display_name": "Python 3"
    },
    "language_info": {
      "name": "python"
    }
  },
  "cells": [
    {
      "cell_type": "markdown",
      "source": [
        ""
      ],
      "metadata": {
        "id": "_c6EWf9Nyv48"
      }
    },
    {
      "cell_type": "code",
      "source": [
        "# Hogwart's sorting hat \n",
        "houses = [\"Griffindor\", \"Slytherin\", \"hufflepuff\", \"Ravenclaw\"]\n",
        "\n",
        "q1_ans = input(\"Are you brave? (Y/N)\")\n",
        "if q1_ans == \"Y\":\n",
        "  print(houses[0])\n",
        "else:\n",
        "  q2_ans = input(\"Are you ambitious? (Y/N)\")\n",
        "  if q2_ans == \"Y\":\n",
        "    print(houses[1])\n",
        "  else:\n",
        "    q3_ans = input(\"Are you loyal? (Y/N)\")\n",
        "    if q3_ans == \"Y\":\n",
        "      print(houses[2])\n",
        "    else:\n",
        "      q4_ans = input(\"Are you wise? (Y/N)\")\n",
        "      if q4_ans == \"Y\":\n",
        "        print(houses[3])\n",
        "      else:\n",
        "        print(\"I cannot decide.\")\n",
        "        "
      ],
      "metadata": {
        "colab": {
          "base_uri": "https://localhost:8080/"
        },
        "id": "AeJaPvkjy04K",
        "outputId": "0102a6ea-859d-4a42-b7e2-da4093132811"
      },
      "execution_count": 78,
      "outputs": [
        {
          "output_type": "stream",
          "name": "stdout",
          "text": [
            "Are you brave? (Y/N)Y\n",
            "Griffindor\n"
          ]
        }
      ]
    },
    {
      "cell_type": "code",
      "source": [
        "# Calculation of mean and std\n",
        "import numpy as np\n",
        "\n",
        "class statlist:\n",
        "  def __init__(self, userlist):\n",
        "    self.value = userlist\n",
        "\n",
        "  def mean(self):\n",
        "    return(np.mean(self.value))\n",
        "\n",
        "  def sd(self):\n",
        "    return(np.std(self.value))\n",
        "\n",
        "  def print(self):\n",
        "    print(self.value)\n",
        "\n",
        "mydata = statlist(np.random.uniform(0,1,5))\n",
        "mydata.print()\n",
        "[mydata.mean(), mydata.sd()]"
      ],
      "metadata": {
        "colab": {
          "base_uri": "https://localhost:8080/"
        },
        "id": "p3nhISnC6Wan",
        "outputId": "4d9f2f70-45a3-487e-e8d8-93aa3f7c7139"
      },
      "execution_count": 82,
      "outputs": [
        {
          "output_type": "stream",
          "name": "stdout",
          "text": [
            "[0.0185762  0.07002214 0.48634511 0.60632946 0.56885144]\n"
          ]
        },
        {
          "output_type": "execute_result",
          "data": {
            "text/plain": [
              "[0.35002487111469505, 0.2531482033831578]"
            ]
          },
          "metadata": {},
          "execution_count": 82
        }
      ]
    },
    {
      "cell_type": "code",
      "source": [
        "# Lagging function\n",
        "def lag(x, y):\n",
        "  list_nan = np.array([np.nan]*y)\n",
        "  list_input = np.delete(np.array(x), range(-y,0))\n",
        "  list_lagged = np.append(list_nan, list_input)\n",
        "  return list_lagged\n",
        "\n",
        "a = [1, 2, 3, 5, 8]\n",
        "\n",
        "lag(a,2)\n"
      ],
      "metadata": {
        "colab": {
          "base_uri": "https://localhost:8080/"
        },
        "id": "hg4D3f60CtdF",
        "outputId": "0978b26b-e4af-4e33-90cb-8c578ee3d614"
      },
      "execution_count": 83,
      "outputs": [
        {
          "output_type": "execute_result",
          "data": {
            "text/plain": [
              "array([nan, nan,  1.,  2.,  3.])"
            ]
          },
          "metadata": {},
          "execution_count": 83
        }
      ]
    },
    {
      "cell_type": "code",
      "source": [
        "# lagGenerator\n",
        "\n",
        "class laglist:\n",
        "  def __init__(self, userlist):\n",
        "    self.value = userlist\n",
        "\n",
        "  def lagGenerator(self, lag):\n",
        "    list_nan = np.array([np.nan]*lag)\n",
        "    list_input = np.delete(np.array(self.value), range(-lag,0))\n",
        "    return np.append(list_nan, list_input)\n",
        "\n",
        "  def print(self):\n",
        "    print(self.value)\n",
        "\n",
        "mytest = laglist(np.random.uniform(0, 1, 5).tolist())\n",
        "\n",
        "mytest.print()\n",
        "mytest.lagGenerator(2)\n"
      ],
      "metadata": {
        "colab": {
          "base_uri": "https://localhost:8080/"
        },
        "id": "ImFJz1TPG8MJ",
        "outputId": "d668f8ac-d8c8-4b38-d549-ac0b16d94ff6"
      },
      "execution_count": 85,
      "outputs": [
        {
          "output_type": "stream",
          "name": "stdout",
          "text": [
            "[0.7453344309065021, 0.6692328934531846, 0.2649195576628094, 0.06633483442844157, 0.3700841979141063]\n"
          ]
        },
        {
          "output_type": "execute_result",
          "data": {
            "text/plain": [
              "array([       nan,        nan, 0.74533443, 0.66923289, 0.26491956])"
            ]
          },
          "metadata": {},
          "execution_count": 85
        }
      ]
    }
  ]
}